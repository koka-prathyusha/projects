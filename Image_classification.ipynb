{
  "nbformat": 4,
  "nbformat_minor": 0,
  "metadata": {
    "colab": {
      "name": "Image classification.ipynb",
      "provenance": [],
      "mount_file_id": "17_U9Xo6t7QcwwQTKeZKKBc5cHZUbAbtD",
      "authorship_tag": "ABX9TyOO0n30tnDAyYBJd3RIIKFP",
      "include_colab_link": true
    },
    "kernelspec": {
      "name": "python3",
      "display_name": "Python 3"
    },
    "language_info": {
      "name": "python"
    }
  },
  "cells": [
    {
      "cell_type": "markdown",
      "metadata": {
        "id": "view-in-github",
        "colab_type": "text"
      },
      "source": [
        "<a href=\"https://colab.research.google.com/github/koka-prathyusha/projects/blob/main/Image_classification.ipynb\" target=\"_parent\"><img src=\"https://colab.research.google.com/assets/colab-badge.svg\" alt=\"Open In Colab\"/></a>"
      ]
    },
    {
      "cell_type": "code",
      "metadata": {
        "id": "iqM_8RPykTdx"
      },
      "source": [
        "#Data : Images\n",
        "# "
      ],
      "execution_count": 1,
      "outputs": []
    },
    {
      "cell_type": "code",
      "metadata": {
        "colab": {
          "base_uri": "https://localhost:8080/"
        },
        "id": "muOcFxiODPvk",
        "outputId": "6ed349cc-439e-488b-87ef-2f65328a5f95"
      },
      "source": [
        "import numpy as np\n",
        "a=np.array([[1,2],\n",
        "            [2,4]])\n",
        "a.ndim"
      ],
      "execution_count": 2,
      "outputs": [
        {
          "output_type": "execute_result",
          "data": {
            "text/plain": [
              "2"
            ]
          },
          "metadata": {
            "tags": []
          },
          "execution_count": 2
        }
      ]
    },
    {
      "cell_type": "code",
      "metadata": {
        "colab": {
          "base_uri": "https://localhost:8080/"
        },
        "id": "GjbgueYrENDr",
        "outputId": "7c659a26-d6b5-449e-805e-14dede158057"
      },
      "source": [
        "#flattening the array into flat data\n",
        "a.flatten()"
      ],
      "execution_count": 3,
      "outputs": [
        {
          "output_type": "execute_result",
          "data": {
            "text/plain": [
              "array([1, 2, 2, 4])"
            ]
          },
          "metadata": {
            "tags": []
          },
          "execution_count": 3
        }
      ]
    },
    {
      "cell_type": "code",
      "metadata": {
        "id": "ygfJiyMntx28"
      },
      "source": [
        "#preprocessing\n",
        "import os\n",
        "import numpy as np\n",
        "import pandas as pd\n",
        "import matplotlib.pyplot as plt\n",
        "from skimage.io import imread\n",
        "from skimage.transform import resize"
      ],
      "execution_count": 4,
      "outputs": []
    },
    {
      "cell_type": "code",
      "metadata": {
        "id": "7kdzGbzT_VeH"
      },
      "source": [
        "#Transform is used to resize the picture into apptopriate size\n",
        "#Normalization is not used when using the resize\n",
        "datadir = '/content/drive/MyDrive/IMAGES'\n",
        "\n",
        "categories = ['fishes','butterfly'] # Name the folder with these categories\n",
        "target = []\n",
        "flat_data = []\n",
        "images=[]\n",
        "for i in categories:\n",
        "  class_num=categories.index(i)\n",
        "  path = os.path.join(datadir,i) #create path to use images print(path)\n",
        "  for img in os.listdir(path):   #it is listing the path\n",
        "    #print(img)\n",
        "    img_array = imread(os.path.join(path,img))\n",
        "    #print(img_array)\n",
        "    img_resize = resize(img_array,(150,150,3)) # Value gets normalized/converted 0-1 from 0-255\n",
        "    flat_data.append(img_resize.flatten())\n",
        "    images.append(img_resize)\n",
        "    target.append(class_num)\n",
        "    \n",
        "\n",
        "flat_data = np.array(flat_data)\n",
        "target = np.array(target)\n",
        "images=np.array(images)"
      ],
      "execution_count": 5,
      "outputs": []
    },
    {
      "cell_type": "code",
      "metadata": {
        "colab": {
          "base_uri": "https://localhost:8080/"
        },
        "id": "gCH3nY4BoaHh",
        "outputId": "abe034f9-d81e-48b2-a336-80a0bdc92bb3"
      },
      "source": [
        "flat_data[0]"
      ],
      "execution_count": 6,
      "outputs": [
        {
          "output_type": "execute_result",
          "data": {
            "text/plain": [
              "array([0.1105098 , 0.0923383 , 0.10142484, ..., 0.21199007, 0.36337569,\n",
              "       0.17565333])"
            ]
          },
          "metadata": {
            "tags": []
          },
          "execution_count": 6
        }
      ]
    },
    {
      "cell_type": "code",
      "metadata": {
        "colab": {
          "base_uri": "https://localhost:8080/"
        },
        "id": "E9Wmn7IvMYpl",
        "outputId": "48da43df-eca8-4424-e0a2-3ffb35417019"
      },
      "source": [
        "150*150*3"
      ],
      "execution_count": 7,
      "outputs": [
        {
          "output_type": "execute_result",
          "data": {
            "text/plain": [
              "67500"
            ]
          },
          "metadata": {
            "tags": []
          },
          "execution_count": 7
        }
      ]
    },
    {
      "cell_type": "code",
      "metadata": {
        "colab": {
          "base_uri": "https://localhost:8080/"
        },
        "id": "B9q02HntLqbU",
        "outputId": "57ec6799-32e9-44da-e86c-bd81fe8f14fd"
      },
      "source": [
        "target"
      ],
      "execution_count": 8,
      "outputs": [
        {
          "output_type": "execute_result",
          "data": {
            "text/plain": [
              "array([0, 0, 0, 0, 1, 1, 1, 1])"
            ]
          },
          "metadata": {
            "tags": []
          },
          "execution_count": 8
        }
      ]
    },
    {
      "cell_type": "code",
      "metadata": {
        "colab": {
          "base_uri": "https://localhost:8080/",
          "height": 283
        },
        "id": "R8nVc_W3Mhk4",
        "outputId": "9e4f0110-bb69-4123-9ee8-3eb21fe94b7d"
      },
      "source": [
        "unique,count=np.unique(target,return_counts=True)\n",
        "plt.bar(categories,count)"
      ],
      "execution_count": 9,
      "outputs": [
        {
          "output_type": "execute_result",
          "data": {
            "text/plain": [
              "<BarContainer object of 2 artists>"
            ]
          },
          "metadata": {
            "tags": []
          },
          "execution_count": 9
        },
        {
          "output_type": "display_data",
          "data": {
            "image/png": "[encoded data removed]",
            "text/plain": [
              "<Figure size 432x288 with 1 Axes>"
            ]
          },
          "metadata": {
            "tags": [],
            "needs_background": "light"
          }
        }
      ]
    },
    {
      "cell_type": "code",
      "metadata": {
        "colab": {
          "base_uri": "https://localhost:8080/",
          "height": 328
        },
        "id": "fX0rTTCpMoYV",
        "outputId": "cebff18d-8514-4451-9c2f-73192cad9248"
      },
      "source": [
        "df=pd.DataFrame(flat_data)\n",
        "df['Target']=target\n",
        "df.head()"
      ],
      "execution_count": 10,
      "outputs": [
        {
          "output_type": "execute_result",
          "data": {
            "text/html": [
              "<div>\n",
              "<style scoped>\n",
              "    .dataframe tbody tr th:only-of-type {\n",
              "        vertical-align: middle;\n",
              "    }\n",
              "\n",
              "    .dataframe tbody tr th {\n",
              "        vertical-align: top;\n",
              "    }\n",
              "\n",
              "    .dataframe thead th {\n",
              "        text-align: right;\n",
              "    }\n",
              "</style>\n",
              "<table border=\"1\" class=\"dataframe\">\n",
              "  <thead>\n",
              "    <tr style=\"text-align: right;\">\n",
              "      <th></th>\n",
              "      <th>0</th>\n",
              "      <th>1</th>\n",
              "      <th>2</th>\n",
              "      <th>3</th>\n",
              "      <th>4</th>\n",
              "      <th>5</th>\n",
              "      <th>6</th>\n",
              "      <th>7</th>\n",
              "      <th>8</th>\n",
              "      <th>9</th>\n",
              "      <th>10</th>\n",
              "      <th>11</th>\n",
              "      <th>12</th>\n",
              "      <th>13</th>\n",
              "      <th>14</th>\n",
              "      <th>15</th>\n",
              "      <th>16</th>\n",
              "      <th>17</th>\n",
              "      <th>18</th>\n",
              "      <th>19</th>\n",
              "      <th>20</th>\n",
              "      <th>21</th>\n",
              "      <th>22</th>\n",
              "      <th>23</th>\n",
              "      <th>24</th>\n",
              "      <th>25</th>\n",
              "      <th>26</th>\n",
              "      <th>27</th>\n",
              "      <th>28</th>\n",
              "      <th>29</th>\n",
              "      <th>30</th>\n",
              "      <th>31</th>\n",
              "      <th>32</th>\n",
              "      <th>33</th>\n",
              "      <th>34</th>\n",
              "      <th>35</th>\n",
              "      <th>36</th>\n",
              "      <th>37</th>\n",
              "      <th>38</th>\n",
              "      <th>39</th>\n",
              "      <th>...</th>\n",
              "      <th>67461</th>\n",
              "      <th>67462</th>\n",
              "      <th>67463</th>\n",
              "      <th>67464</th>\n",
              "      <th>67465</th>\n",
              "      <th>67466</th>\n",
              "      <th>67467</th>\n",
              "      <th>67468</th>\n",
              "      <th>67469</th>\n",
              "      <th>67470</th>\n",
              "      <th>67471</th>\n",
              "      <th>67472</th>\n",
              "      <th>67473</th>\n",
              "      <th>67474</th>\n",
              "      <th>67475</th>\n",
              "      <th>67476</th>\n",
              "      <th>67477</th>\n",
              "      <th>67478</th>\n",
              "      <th>67479</th>\n",
              "      <th>67480</th>\n",
              "      <th>67481</th>\n",
              "      <th>67482</th>\n",
              "      <th>67483</th>\n",
              "      <th>67484</th>\n",
              "      <th>67485</th>\n",
              "      <th>67486</th>\n",
              "      <th>67487</th>\n",
              "      <th>67488</th>\n",
              "      <th>67489</th>\n",
              "      <th>67490</th>\n",
              "      <th>67491</th>\n",
              "      <th>67492</th>\n",
              "      <th>67493</th>\n",
              "      <th>67494</th>\n",
              "      <th>67495</th>\n",
              "      <th>67496</th>\n",
              "      <th>67497</th>\n",
              "      <th>67498</th>\n",
              "      <th>67499</th>\n",
              "      <th>Target</th>\n",
              "    </tr>\n",
              "  </thead>\n",
              "  <tbody>\n",
              "    <tr>\n",
              "      <th>0</th>\n",
              "      <td>0.110510</td>\n",
              "      <td>0.092338</td>\n",
              "      <td>0.101425</td>\n",
              "      <td>0.106461</td>\n",
              "      <td>0.103015</td>\n",
              "      <td>0.102853</td>\n",
              "      <td>0.100484</td>\n",
              "      <td>0.122651</td>\n",
              "      <td>0.113033</td>\n",
              "      <td>0.096433</td>\n",
              "      <td>0.142342</td>\n",
              "      <td>0.121636</td>\n",
              "      <td>0.094742</td>\n",
              "      <td>0.162806</td>\n",
              "      <td>0.130036</td>\n",
              "      <td>0.154362</td>\n",
              "      <td>0.232771</td>\n",
              "      <td>0.189656</td>\n",
              "      <td>0.199516</td>\n",
              "      <td>0.277948</td>\n",
              "      <td>0.232824</td>\n",
              "      <td>0.199027</td>\n",
              "      <td>0.280478</td>\n",
              "      <td>0.230282</td>\n",
              "      <td>0.199792</td>\n",
              "      <td>0.274602</td>\n",
              "      <td>0.227544</td>\n",
              "      <td>0.203615</td>\n",
              "      <td>0.258168</td>\n",
              "      <td>0.206508</td>\n",
              "      <td>0.205189</td>\n",
              "      <td>0.249509</td>\n",
              "      <td>0.193457</td>\n",
              "      <td>2.077286e-01</td>\n",
              "      <td>0.258604</td>\n",
              "      <td>0.199784</td>\n",
              "      <td>0.211333</td>\n",
              "      <td>0.274118</td>\n",
              "      <td>0.212680</td>\n",
              "      <td>0.226654</td>\n",
              "      <td>...</td>\n",
              "      <td>0.108706</td>\n",
              "      <td>0.330928</td>\n",
              "      <td>0.182065</td>\n",
              "      <td>0.127574</td>\n",
              "      <td>0.307234</td>\n",
              "      <td>0.198162</td>\n",
              "      <td>0.033203</td>\n",
              "      <td>0.169203</td>\n",
              "      <td>0.098144</td>\n",
              "      <td>0.017804</td>\n",
              "      <td>0.107197</td>\n",
              "      <td>0.062701</td>\n",
              "      <td>0.067683</td>\n",
              "      <td>0.134510</td>\n",
              "      <td>0.103488</td>\n",
              "      <td>0.038165</td>\n",
              "      <td>0.104549</td>\n",
              "      <td>0.074125</td>\n",
              "      <td>0.080658</td>\n",
              "      <td>0.174259</td>\n",
              "      <td>0.113716</td>\n",
              "      <td>0.191690</td>\n",
              "      <td>0.312718</td>\n",
              "      <td>0.212928</td>\n",
              "      <td>0.253896</td>\n",
              "      <td>0.407936</td>\n",
              "      <td>0.255308</td>\n",
              "      <td>0.225220</td>\n",
              "      <td>0.395642</td>\n",
              "      <td>0.210716</td>\n",
              "      <td>0.204873</td>\n",
              "      <td>0.377187</td>\n",
              "      <td>0.177775</td>\n",
              "      <td>0.173280</td>\n",
              "      <td>0.337951</td>\n",
              "      <td>0.142304</td>\n",
              "      <td>0.211990</td>\n",
              "      <td>0.363376</td>\n",
              "      <td>0.175653</td>\n",
              "      <td>0</td>\n",
              "    </tr>\n",
              "    <tr>\n",
              "      <th>1</th>\n",
              "      <td>0.298824</td>\n",
              "      <td>0.338039</td>\n",
              "      <td>0.130196</td>\n",
              "      <td>0.288235</td>\n",
              "      <td>0.327451</td>\n",
              "      <td>0.119608</td>\n",
              "      <td>0.278588</td>\n",
              "      <td>0.317804</td>\n",
              "      <td>0.109961</td>\n",
              "      <td>0.274618</td>\n",
              "      <td>0.313834</td>\n",
              "      <td>0.105203</td>\n",
              "      <td>0.271090</td>\n",
              "      <td>0.310305</td>\n",
              "      <td>0.102462</td>\n",
              "      <td>0.266902</td>\n",
              "      <td>0.306118</td>\n",
              "      <td>0.098275</td>\n",
              "      <td>0.270588</td>\n",
              "      <td>0.309804</td>\n",
              "      <td>0.101961</td>\n",
              "      <td>0.270554</td>\n",
              "      <td>0.316010</td>\n",
              "      <td>0.096010</td>\n",
              "      <td>0.269908</td>\n",
              "      <td>0.336575</td>\n",
              "      <td>0.068558</td>\n",
              "      <td>0.265987</td>\n",
              "      <td>0.332654</td>\n",
              "      <td>0.057213</td>\n",
              "      <td>0.267320</td>\n",
              "      <td>0.334327</td>\n",
              "      <td>0.050525</td>\n",
              "      <td>2.717527e-01</td>\n",
              "      <td>0.342484</td>\n",
              "      <td>0.045072</td>\n",
              "      <td>0.274340</td>\n",
              "      <td>0.348850</td>\n",
              "      <td>0.036915</td>\n",
              "      <td>0.278092</td>\n",
              "      <td>...</td>\n",
              "      <td>0.452601</td>\n",
              "      <td>0.432993</td>\n",
              "      <td>0.409464</td>\n",
              "      <td>0.463033</td>\n",
              "      <td>0.445699</td>\n",
              "      <td>0.415346</td>\n",
              "      <td>0.460157</td>\n",
              "      <td>0.444471</td>\n",
              "      <td>0.409176</td>\n",
              "      <td>0.451748</td>\n",
              "      <td>0.435974</td>\n",
              "      <td>0.400680</td>\n",
              "      <td>0.439643</td>\n",
              "      <td>0.424235</td>\n",
              "      <td>0.388941</td>\n",
              "      <td>0.431425</td>\n",
              "      <td>0.415739</td>\n",
              "      <td>0.380444</td>\n",
              "      <td>0.423268</td>\n",
              "      <td>0.407582</td>\n",
              "      <td>0.372288</td>\n",
              "      <td>0.419268</td>\n",
              "      <td>0.403582</td>\n",
              "      <td>0.368288</td>\n",
              "      <td>0.422850</td>\n",
              "      <td>0.407712</td>\n",
              "      <td>0.371869</td>\n",
              "      <td>0.410562</td>\n",
              "      <td>0.415346</td>\n",
              "      <td>0.367425</td>\n",
              "      <td>0.407503</td>\n",
              "      <td>0.415346</td>\n",
              "      <td>0.364366</td>\n",
              "      <td>0.412575</td>\n",
              "      <td>0.420418</td>\n",
              "      <td>0.368077</td>\n",
              "      <td>0.416994</td>\n",
              "      <td>0.424837</td>\n",
              "      <td>0.373857</td>\n",
              "      <td>0</td>\n",
              "    </tr>\n",
              "    <tr>\n",
              "      <th>2</th>\n",
              "      <td>0.000026</td>\n",
              "      <td>0.007843</td>\n",
              "      <td>0.000000</td>\n",
              "      <td>0.000026</td>\n",
              "      <td>0.007843</td>\n",
              "      <td>0.000000</td>\n",
              "      <td>0.000026</td>\n",
              "      <td>0.007843</td>\n",
              "      <td>0.000000</td>\n",
              "      <td>0.000026</td>\n",
              "      <td>0.007817</td>\n",
              "      <td>0.000000</td>\n",
              "      <td>0.000026</td>\n",
              "      <td>0.007817</td>\n",
              "      <td>0.000000</td>\n",
              "      <td>0.000026</td>\n",
              "      <td>0.007817</td>\n",
              "      <td>0.000000</td>\n",
              "      <td>0.000026</td>\n",
              "      <td>0.007817</td>\n",
              "      <td>0.000993</td>\n",
              "      <td>0.000026</td>\n",
              "      <td>0.005480</td>\n",
              "      <td>0.003922</td>\n",
              "      <td>0.000026</td>\n",
              "      <td>0.003922</td>\n",
              "      <td>0.007634</td>\n",
              "      <td>0.000026</td>\n",
              "      <td>0.003922</td>\n",
              "      <td>0.011765</td>\n",
              "      <td>0.000026</td>\n",
              "      <td>0.003922</td>\n",
              "      <td>0.011765</td>\n",
              "      <td>3.485839e-07</td>\n",
              "      <td>0.003922</td>\n",
              "      <td>0.007895</td>\n",
              "      <td>0.000000</td>\n",
              "      <td>0.009150</td>\n",
              "      <td>0.000000</td>\n",
              "      <td>0.000000</td>\n",
              "      <td>...</td>\n",
              "      <td>0.003922</td>\n",
              "      <td>0.003922</td>\n",
              "      <td>0.003922</td>\n",
              "      <td>0.003922</td>\n",
              "      <td>0.003922</td>\n",
              "      <td>0.003922</td>\n",
              "      <td>0.003922</td>\n",
              "      <td>0.003922</td>\n",
              "      <td>0.003922</td>\n",
              "      <td>0.003922</td>\n",
              "      <td>0.003922</td>\n",
              "      <td>0.003922</td>\n",
              "      <td>0.003922</td>\n",
              "      <td>0.003922</td>\n",
              "      <td>0.003922</td>\n",
              "      <td>0.003922</td>\n",
              "      <td>0.003922</td>\n",
              "      <td>0.003922</td>\n",
              "      <td>0.003922</td>\n",
              "      <td>0.003922</td>\n",
              "      <td>0.003922</td>\n",
              "      <td>0.003922</td>\n",
              "      <td>0.003922</td>\n",
              "      <td>0.003922</td>\n",
              "      <td>0.003922</td>\n",
              "      <td>0.003922</td>\n",
              "      <td>0.003922</td>\n",
              "      <td>0.003922</td>\n",
              "      <td>0.003922</td>\n",
              "      <td>0.003922</td>\n",
              "      <td>0.003918</td>\n",
              "      <td>0.003918</td>\n",
              "      <td>0.003918</td>\n",
              "      <td>0.020724</td>\n",
              "      <td>0.020724</td>\n",
              "      <td>0.020724</td>\n",
              "      <td>0.045395</td>\n",
              "      <td>0.045395</td>\n",
              "      <td>0.045395</td>\n",
              "      <td>0</td>\n",
              "    </tr>\n",
              "    <tr>\n",
              "      <th>3</th>\n",
              "      <td>0.281160</td>\n",
              "      <td>0.422336</td>\n",
              "      <td>0.179351</td>\n",
              "      <td>0.264891</td>\n",
              "      <td>0.405964</td>\n",
              "      <td>0.166616</td>\n",
              "      <td>0.268769</td>\n",
              "      <td>0.408107</td>\n",
              "      <td>0.178230</td>\n",
              "      <td>0.283359</td>\n",
              "      <td>0.428667</td>\n",
              "      <td>0.217647</td>\n",
              "      <td>0.290935</td>\n",
              "      <td>0.444899</td>\n",
              "      <td>0.255131</td>\n",
              "      <td>0.274785</td>\n",
              "      <td>0.446968</td>\n",
              "      <td>0.281007</td>\n",
              "      <td>0.206370</td>\n",
              "      <td>0.406632</td>\n",
              "      <td>0.262527</td>\n",
              "      <td>0.189647</td>\n",
              "      <td>0.414651</td>\n",
              "      <td>0.290776</td>\n",
              "      <td>0.266725</td>\n",
              "      <td>0.517430</td>\n",
              "      <td>0.411224</td>\n",
              "      <td>0.376100</td>\n",
              "      <td>0.639421</td>\n",
              "      <td>0.538035</td>\n",
              "      <td>0.358765</td>\n",
              "      <td>0.665843</td>\n",
              "      <td>0.582334</td>\n",
              "      <td>2.815404e-01</td>\n",
              "      <td>0.560988</td>\n",
              "      <td>0.456063</td>\n",
              "      <td>0.194458</td>\n",
              "      <td>0.437516</td>\n",
              "      <td>0.300261</td>\n",
              "      <td>0.139619</td>\n",
              "      <td>...</td>\n",
              "      <td>0.628641</td>\n",
              "      <td>0.784562</td>\n",
              "      <td>0.744667</td>\n",
              "      <td>0.648119</td>\n",
              "      <td>0.804011</td>\n",
              "      <td>0.770151</td>\n",
              "      <td>0.613333</td>\n",
              "      <td>0.759551</td>\n",
              "      <td>0.734922</td>\n",
              "      <td>0.554421</td>\n",
              "      <td>0.693151</td>\n",
              "      <td>0.677347</td>\n",
              "      <td>0.519128</td>\n",
              "      <td>0.648696</td>\n",
              "      <td>0.605728</td>\n",
              "      <td>0.509318</td>\n",
              "      <td>0.648212</td>\n",
              "      <td>0.618267</td>\n",
              "      <td>0.447769</td>\n",
              "      <td>0.601442</td>\n",
              "      <td>0.584052</td>\n",
              "      <td>0.262922</td>\n",
              "      <td>0.422818</td>\n",
              "      <td>0.427132</td>\n",
              "      <td>0.267710</td>\n",
              "      <td>0.439236</td>\n",
              "      <td>0.462540</td>\n",
              "      <td>0.418901</td>\n",
              "      <td>0.591659</td>\n",
              "      <td>0.626326</td>\n",
              "      <td>0.456910</td>\n",
              "      <td>0.629522</td>\n",
              "      <td>0.664627</td>\n",
              "      <td>0.341333</td>\n",
              "      <td>0.509961</td>\n",
              "      <td>0.536941</td>\n",
              "      <td>0.194545</td>\n",
              "      <td>0.357630</td>\n",
              "      <td>0.375617</td>\n",
              "      <td>0</td>\n",
              "    </tr>\n",
              "    <tr>\n",
              "      <th>4</th>\n",
              "      <td>0.584680</td>\n",
              "      <td>0.427817</td>\n",
              "      <td>0.154993</td>\n",
              "      <td>0.563804</td>\n",
              "      <td>0.410863</td>\n",
              "      <td>0.143751</td>\n",
              "      <td>0.534039</td>\n",
              "      <td>0.385608</td>\n",
              "      <td>0.131882</td>\n",
              "      <td>0.501530</td>\n",
              "      <td>0.360432</td>\n",
              "      <td>0.117334</td>\n",
              "      <td>0.469033</td>\n",
              "      <td>0.335699</td>\n",
              "      <td>0.106719</td>\n",
              "      <td>0.425778</td>\n",
              "      <td>0.303150</td>\n",
              "      <td>0.085346</td>\n",
              "      <td>0.388394</td>\n",
              "      <td>0.269139</td>\n",
              "      <td>0.059688</td>\n",
              "      <td>0.354159</td>\n",
              "      <td>0.240041</td>\n",
              "      <td>0.039658</td>\n",
              "      <td>0.330719</td>\n",
              "      <td>0.215961</td>\n",
              "      <td>0.027240</td>\n",
              "      <td>0.338664</td>\n",
              "      <td>0.212431</td>\n",
              "      <td>0.039216</td>\n",
              "      <td>0.349255</td>\n",
              "      <td>0.219725</td>\n",
              "      <td>0.039331</td>\n",
              "      <td>3.707421e-01</td>\n",
              "      <td>0.240899</td>\n",
              "      <td>0.043046</td>\n",
              "      <td>0.413703</td>\n",
              "      <td>0.277428</td>\n",
              "      <td>0.060761</td>\n",
              "      <td>0.466827</td>\n",
              "      <td>...</td>\n",
              "      <td>0.832147</td>\n",
              "      <td>0.609712</td>\n",
              "      <td>0.051663</td>\n",
              "      <td>0.835020</td>\n",
              "      <td>0.603739</td>\n",
              "      <td>0.054947</td>\n",
              "      <td>0.831127</td>\n",
              "      <td>0.599846</td>\n",
              "      <td>0.058275</td>\n",
              "      <td>0.813566</td>\n",
              "      <td>0.575017</td>\n",
              "      <td>0.036913</td>\n",
              "      <td>0.791762</td>\n",
              "      <td>0.548625</td>\n",
              "      <td>0.017843</td>\n",
              "      <td>0.801974</td>\n",
              "      <td>0.548837</td>\n",
              "      <td>0.027518</td>\n",
              "      <td>0.805961</td>\n",
              "      <td>0.544878</td>\n",
              "      <td>0.030915</td>\n",
              "      <td>0.802588</td>\n",
              "      <td>0.539818</td>\n",
              "      <td>0.027060</td>\n",
              "      <td>0.795792</td>\n",
              "      <td>0.532458</td>\n",
              "      <td>0.023152</td>\n",
              "      <td>0.788129</td>\n",
              "      <td>0.552612</td>\n",
              "      <td>0.042302</td>\n",
              "      <td>0.798549</td>\n",
              "      <td>0.567268</td>\n",
              "      <td>0.057071</td>\n",
              "      <td>0.833190</td>\n",
              "      <td>0.601909</td>\n",
              "      <td>0.091739</td>\n",
              "      <td>0.856719</td>\n",
              "      <td>0.625438</td>\n",
              "      <td>0.122980</td>\n",
              "      <td>1</td>\n",
              "    </tr>\n",
              "  </tbody>\n",
              "</table>\n",
              "<p>5 rows × 67501 columns</p>\n",
              "</div>"
            ],
            "text/plain": [
              "          0         1         2         3  ...     67497     67498     67499  Target\n",
              "0  0.110510  0.092338  0.101425  0.106461  ...  0.211990  0.363376  0.175653       0\n",
              "1  0.298824  0.338039  0.130196  0.288235  ...  0.416994  0.424837  0.373857       0\n",
              "2  0.000026  0.007843  0.000000  0.000026  ...  0.045395  0.045395  0.045395       0\n",
              "3  0.281160  0.422336  0.179351  0.264891  ...  0.194545  0.357630  0.375617       0\n",
              "4  0.584680  0.427817  0.154993  0.563804  ...  0.856719  0.625438  0.122980       1\n",
              "\n",
              "[5 rows x 67501 columns]"
            ]
          },
          "metadata": {
            "tags": []
          },
          "execution_count": 10
        }
      ]
    },
    {
      "cell_type": "code",
      "metadata": {
        "id": "IdzdLckW58Oj"
      },
      "source": [
        "# Taking ip and op\n",
        "x = df.iloc[:,2:-1].values\n",
        "y = df.iloc[:,1].values"
      ],
      "execution_count": 11,
      "outputs": []
    },
    {
      "cell_type": "code",
      "metadata": {
        "id": "rsfI05G-NStk"
      },
      "source": [
        "#split data into training and testing\n",
        "from sklearn.model_selection import train_test_split\n",
        "x_train,x_test,y_train,y_test=train_test_split(flat_data,target,random_state=0)"
      ],
      "execution_count": 12,
      "outputs": []
    },
    {
      "cell_type": "code",
      "metadata": {
        "id": "QsPe9oif6JWo"
      },
      "source": [
        "# Normalization : Bringing value in a scale of 0-1\n",
        "from sklearn.preprocessing import MinMaxScaler\n",
        "scaler = MinMaxScaler()\n",
        "x_train = scaler.fit_transform(x_train)\n",
        "x_test = scaler.transform(x_test)"
      ],
      "execution_count": 13,
      "outputs": []
    },
    {
      "cell_type": "code",
      "metadata": {
        "colab": {
          "base_uri": "https://localhost:8080/"
        },
        "id": "mxGK71M-6P_p",
        "outputId": "7a02ffd3-dabf-48e1-db29-c40c4aebc70b"
      },
      "source": [
        "from sklearn.svm import SVC\n",
        "model = SVC()\n",
        "model.fit(x_train,y_train)\n",
        "y_pred = model.predict(x_test)\n",
        "y_pred"
      ],
      "execution_count": 14,
      "outputs": [
        {
          "output_type": "execute_result",
          "data": {
            "text/plain": [
              "array([1, 0])"
            ]
          },
          "metadata": {
            "tags": []
          },
          "execution_count": 14
        }
      ]
    },
    {
      "cell_type": "code",
      "metadata": {
        "colab": {
          "base_uri": "https://localhost:8080/"
        },
        "id": "x_cx4WcUviOK",
        "outputId": "aa3701d7-3606-4c7d-c512-9edc40e46bc8"
      },
      "source": [
        "x_train"
      ],
      "execution_count": 15,
      "outputs": [
        {
          "output_type": "execute_result",
          "data": {
            "text/plain": [
              "array([[0.22316892, 0.27109457, 0.03221368, ..., 0.33593748, 0.37171466,\n",
              "        0.99303346],\n",
              "       [1.        , 1.        , 1.        , ..., 0.18329911, 0.33764733,\n",
              "        0.29803049],\n",
              "       [0.20223572, 0.36410382, 0.08725005, ..., 0.        , 0.16122023,\n",
              "        1.        ],\n",
              "       [0.        , 0.        , 0.        , ..., 0.02634537, 0.17921643,\n",
              "        0.20849313],\n",
              "       [0.43397571, 0.39380461, 0.03379437, ..., 0.38761533, 0.        ,\n",
              "        0.6286491 ],\n",
              "       [0.56193456, 0.37015106, 0.05997805, ..., 1.        , 1.        ,\n",
              "        0.        ]])"
            ]
          },
          "metadata": {
            "tags": []
          },
          "execution_count": 15
        }
      ]
    },
    {
      "cell_type": "code",
      "metadata": {
        "colab": {
          "base_uri": "https://localhost:8080/"
        },
        "id": "ypoIMcgjvnhF",
        "outputId": "41c1e178-03fa-4c35-b0c4-12e83d5eb9f3"
      },
      "source": [
        "y_train"
      ],
      "execution_count": 16,
      "outputs": [
        {
          "output_type": "execute_result",
          "data": {
            "text/plain": [
              "array([0, 1, 0, 0, 1, 1])"
            ]
          },
          "metadata": {
            "tags": []
          },
          "execution_count": 16
        }
      ]
    },
    {
      "cell_type": "code",
      "metadata": {
        "colab": {
          "base_uri": "https://localhost:8080/"
        },
        "id": "hh5bQKH1W9OF",
        "outputId": "85682d3c-ad4d-4ee2-a58a-e0e071cee454"
      },
      "source": [
        "y_test"
      ],
      "execution_count": 23,
      "outputs": [
        {
          "output_type": "execute_result",
          "data": {
            "text/plain": [
              "array([1, 0])"
            ]
          },
          "metadata": {
            "tags": []
          },
          "execution_count": 23
        }
      ]
    },
    {
      "cell_type": "code",
      "metadata": {
        "id": "7USVlKTl5PVx"
      },
      "source": [
        "from sklearn.metrics import accuracy_score,confusion_matrix"
      ],
      "execution_count": 17,
      "outputs": []
    },
    {
      "cell_type": "code",
      "metadata": {
        "colab": {
          "base_uri": "https://localhost:8080/"
        },
        "id": "qoqDkJol5eeS",
        "outputId": "835f248b-7be2-490a-d518-457df081a746"
      },
      "source": [
        "accuracy_score(y_pred,y_test)"
      ],
      "execution_count": 24,
      "outputs": [
        {
          "output_type": "execute_result",
          "data": {
            "text/plain": [
              "1.0"
            ]
          },
          "metadata": {
            "tags": []
          },
          "execution_count": 24
        }
      ]
    },
    {
      "cell_type": "code",
      "metadata": {
        "colab": {
          "base_uri": "https://localhost:8080/"
        },
        "id": "U0Ss2jyXXIBg",
        "outputId": "e95ca780-6c95-4725-8e78-cf04aa1e1854"
      },
      "source": [
        "confusion_matrix(y_pred,y_test)"
      ],
      "execution_count": 25,
      "outputs": [
        {
          "output_type": "execute_result",
          "data": {
            "text/plain": [
              "array([[1, 0],\n",
              "       [0, 1]])"
            ]
          },
          "metadata": {
            "tags": []
          },
          "execution_count": 25
        }
      ]
    },
    {
      "cell_type": "code",
      "metadata": {
        "id": "di-vpeayXwcd"
      },
      "source": [
        "# "
      ],
      "execution_count": null,
      "outputs": []
    },
    {
      "cell_type": "code",
      "metadata": {
        "colab": {
          "base_uri": "https://localhost:8080/"
        },
        "id": "jKJ7Ah7ZO1Bb",
        "outputId": "82787ae8-f562-4044-d06d-1c0145e18395"
      },
      "source": [
        "#svm-support vector machine\n",
        "from sklearn.model_selection import GridSearchCV\n",
        "from sklearn import svm \n",
        "param_grid=[\n",
        "            {'c':[1,10,100],'kernel':['linear']},\n",
        "             {'c':[1,10,100],'gamma':[0.01,0.001],'kernel':['rbf']},   \n",
        "]\n",
        "\n",
        "svc = svm.SVC(probability=True)  \n",
        "clf= GridSearchCV(svc,param_grid)  \n",
        "clf\n",
        "#clf.fit(x_train,y_train)      \n",
        "#grid = GridSearchCV(SVC(),param_grid)\n",
        "#grid.fit(x_train,y_train)"
      ],
      "execution_count": 27,
      "outputs": [
        {
          "output_type": "execute_result",
          "data": {
            "text/plain": [
              "GridSearchCV(cv=None, error_score=nan,\n",
              "             estimator=SVC(C=1.0, break_ties=False, cache_size=200,\n",
              "                           class_weight=None, coef0=0.0,\n",
              "                           decision_function_shape='ovr', degree=3,\n",
              "                           gamma='scale', kernel='rbf', max_iter=-1,\n",
              "                           probability=True, random_state=None, shrinking=True,\n",
              "                           tol=0.001, verbose=False),\n",
              "             iid='deprecated', n_jobs=None,\n",
              "             param_grid=[{'c': [1, 10, 100], 'kernel': ['linear']},\n",
              "                         {'c': [1, 10, 100], 'gamma': [0.01, 0.001],\n",
              "                          'kernel': ['rbf']}],\n",
              "             pre_dispatch='2*n_jobs', refit=True, return_train_score=False,\n",
              "             scoring=None, verbose=0)"
            ]
          },
          "metadata": {
            "tags": []
          },
          "execution_count": 27
        }
      ]
    },
    {
      "cell_type": "code",
      "metadata": {
        "colab": {
          "base_uri": "https://localhost:8080/"
        },
        "id": "ex5XW_j_UFDt",
        "outputId": "a1134753-2bf3-4de5-e8bf-b5fac18a1731"
      },
      "source": [
        "\n",
        "y_pred"
      ],
      "execution_count": 29,
      "outputs": [
        {
          "output_type": "execute_result",
          "data": {
            "text/plain": [
              "array([1, 0])"
            ]
          },
          "metadata": {
            "tags": []
          },
          "execution_count": 29
        }
      ]
    },
    {
      "cell_type": "code",
      "metadata": {
        "colab": {
          "base_uri": "https://localhost:8080/",
          "height": 305
        },
        "id": "CoePj6t6YMwz",
        "outputId": "05b3dbf3-37d1-4d91-f604-fd8bb06960e0"
      },
      "source": [
        "#Testing a brand new image\n",
        "flat_data=[]\n",
        "img=imread('/content/drive/MyDrive/IMAGES/butterfly/butterfly-1.jpg')\n",
        "img_resize =resize(img,(150,150,3))\n",
        "flat_data.append(img_resize.flatten())\n",
        "flat_data=np.array(flat_data)\n",
        "print(img.shape)\n",
        "plt.imshow(img_resize)\n",
        "y_out= model.predict(flat_data)\n",
        "y_out=categories[y_out[0]]\n",
        "print(f'predicted output: {y_out}')"
      ],
      "execution_count": 33,
      "outputs": [
        {
          "output_type": "stream",
          "text": [
            "(157, 279, 3)\n",
            "predicted output: butterfly\n"
          ],
          "name": "stdout"
        },
        {
          "output_type": "display_data",
          "data": {
            "image/png": "[encoded data removed]",
            "text/plain": [
              "<Figure size 432x288 with 1 Axes>"
            ]
          },
          "metadata": {
            "tags": [],
            "needs_background": "light"
          }
        }
      ]
    },
    {
      "cell_type": "code",
      "metadata": {
        "colab": {
          "base_uri": "https://localhost:8080/",
          "height": 1000
        },
        "id": "qlS1_taFb8n-",
        "outputId": "88224de4-1d56-404e-8f4f-b3813d5a316f"
      },
      "source": [
        "!pip install streamlit\n",
        "!pip install pyngrok\n",
        "from pyngrok import ngrok"
      ],
      "execution_count": 34,
      "outputs": [
        {
          "output_type": "stream",
          "text": [
            "Collecting streamlit\n",
            "\u001b[?25l  Downloading https://files.pythonhosted.org/packages/04/11/57097e14f72a2d1b2a1bbe86c2a8bc375661bfd5c30b5e8cee7c2fad9a44/streamlit-0.82.0-py2.py3-none-any.whl (8.2MB)\n",
            "\u001b[K     |████████████████████████████████| 8.2MB 5.7MB/s \n",
            "\u001b[?25hRequirement already satisfied: tzlocal in /usr/local/lib/python3.7/dist-packages (from streamlit) (1.5.1)\n",
            "Collecting validators\n",
            "  Downloading https://files.pythonhosted.org/packages/db/2f/7fed3ee94ad665ad2c1de87f858f10a7785251ff75b4fd47987888d07ef1/validators-0.18.2-py3-none-any.whl\n",
            "Requirement already satisfied: requests in /usr/local/lib/python3.7/dist-packages (from streamlit) (2.23.0)\n",
            "Collecting click<8.0,>=7.0\n",
            "\u001b[?25l  Downloading https://files.pythonhosted.org/packages/d2/3d/fa76db83bf75c4f8d338c2fd15c8d33fdd7ad23a9b5e57eb6c5de26b430e/click-7.1.2-py2.py3-none-any.whl (82kB)\n",
            "\u001b[K     |████████████████████████████████| 92kB 13.7MB/s \n",
            "\u001b[?25hCollecting gitpython\n",
            "\u001b[?25l  Downloading https://files.pythonhosted.org/packages/27/da/6f6224fdfc47dab57881fe20c0d1bc3122be290198ba0bf26a953a045d92/GitPython-3.1.17-py3-none-any.whl (166kB)\n",
            "\u001b[K     |████████████████████████████████| 174kB 45.1MB/s \n",
            "\u001b[?25hRequirement already satisfied: packaging in /usr/local/lib/python3.7/dist-packages (from streamlit) (20.9)\n",
            "Requirement already satisfied: toml in /usr/local/lib/python3.7/dist-packages (from streamlit) (0.10.2)\n",
            "Requirement already satisfied: astor in /usr/local/lib/python3.7/dist-packages (from streamlit) (0.8.1)\n",
            "Collecting pydeck>=0.1.dev5\n",
            "\u001b[?25l  Downloading https://files.pythonhosted.org/packages/d6/bc/f0e44828e4290367c869591d50d3671a4d0ee94926da6cb734b7b200308c/pydeck-0.6.2-py2.py3-none-any.whl (4.2MB)\n",
            "\u001b[K     |████████████████████████████████| 4.2MB 38.4MB/s \n",
            "\u001b[?25hRequirement already satisfied: pyarrow; python_version < \"3.9\" in /usr/local/lib/python3.7/dist-packages (from streamlit) (3.0.0)\n",
            "Collecting blinker\n",
            "\u001b[?25l  Downloading https://files.pythonhosted.org/packages/1b/51/e2a9f3b757eb802f61dc1f2b09c8c99f6eb01cf06416c0671253536517b6/blinker-1.4.tar.gz (111kB)\n",
            "\u001b[K     |████████████████████████████████| 112kB 44.4MB/s \n",
            "\u001b[?25hRequirement already satisfied: numpy in /usr/local/lib/python3.7/dist-packages (from streamlit) (1.19.5)\n",
            "Requirement already satisfied: python-dateutil in /usr/local/lib/python3.7/dist-packages (from streamlit) (2.8.1)\n",
            "Collecting watchdog; platform_system != \"Darwin\"\n",
            "\u001b[?25l  Downloading https://files.pythonhosted.org/packages/f2/5b/36b3b11e557830de6fc1dc06e9aa3ee274119b8cea9cc98175dbbf72cf87/watchdog-2.1.2-py3-none-manylinux2014_x86_64.whl (74kB)\n",
            "\u001b[K     |████████████████████████████████| 81kB 10.2MB/s \n",
            "\u001b[?25hRequirement already satisfied: tornado>=5.0 in /usr/local/lib/python3.7/dist-packages (from streamlit) (5.1.1)\n",
            "Requirement already satisfied: cachetools>=4.0 in /usr/local/lib/python3.7/dist-packages (from streamlit) (4.2.2)\n",
            "Requirement already satisfied: pillow>=6.2.0 in /usr/local/lib/python3.7/dist-packages (from streamlit) (7.1.2)\n",
            "Requirement already satisfied: altair>=3.2.0 in /usr/local/lib/python3.7/dist-packages (from streamlit) (4.1.0)\n",
            "Collecting base58\n",
            "  Downloading https://files.pythonhosted.org/packages/b8/a1/d9f565e9910c09fd325dc638765e8843a19fa696275c16cc08cf3b0a3c25/base58-2.1.0-py3-none-any.whl\n",
            "Requirement already satisfied: protobuf!=3.11,>=3.6.0 in /usr/local/lib/python3.7/dist-packages (from streamlit) (3.12.4)\n",
            "Requirement already satisfied: pandas>=0.21.0 in /usr/local/lib/python3.7/dist-packages (from streamlit) (1.1.5)\n",
            "Requirement already satisfied: pytz in /usr/local/lib/python3.7/dist-packages (from tzlocal->streamlit) (2018.9)\n",
            "Requirement already satisfied: decorator>=3.4.0 in /usr/local/lib/python3.7/dist-packages (from validators->streamlit) (4.4.2)\n",
            "Requirement already satisfied: six>=1.4.0 in /usr/local/lib/python3.7/dist-packages (from validators->streamlit) (1.15.0)\n",
            "Requirement already satisfied: chardet<4,>=3.0.2 in /usr/local/lib/python3.7/dist-packages (from requests->streamlit) (3.0.4)\n",
            "Requirement already satisfied: urllib3!=1.25.0,!=1.25.1,<1.26,>=1.21.1 in /usr/local/lib/python3.7/dist-packages (from requests->streamlit) (1.24.3)\n",
            "Requirement already satisfied: certifi>=2017.4.17 in /usr/local/lib/python3.7/dist-packages (from requests->streamlit) (2020.12.5)\n",
            "Requirement already satisfied: idna<3,>=2.5 in /usr/local/lib/python3.7/dist-packages (from requests->streamlit) (2.10)\n",
            "Collecting gitdb<5,>=4.0.1\n",
            "\u001b[?25l  Downloading https://files.pythonhosted.org/packages/ea/e8/f414d1a4f0bbc668ed441f74f44c116d9816833a48bf81d22b697090dba8/gitdb-4.0.7-py3-none-any.whl (63kB)\n",
            "\u001b[K     |████████████████████████████████| 71kB 8.5MB/s \n",
            "\u001b[?25hRequirement already satisfied: typing-extensions>=3.7.4.0; python_version < \"3.8\" in /usr/local/lib/python3.7/dist-packages (from gitpython->streamlit) (3.7.4.3)\n",
            "Requirement already satisfied: pyparsing>=2.0.2 in /usr/local/lib/python3.7/dist-packages (from packaging->streamlit) (2.4.7)\n",
            "Collecting ipykernel>=5.1.2; python_version >= \"3.4\"\n",
            "\u001b[?25l  Downloading https://files.pythonhosted.org/packages/90/6d/6c8fe4b658f77947d4244ce81f60230c4c8d1dc1a21ae83e63b269339178/ipykernel-5.5.5-py3-none-any.whl (120kB)\n",
            "\u001b[K     |████████████████████████████████| 122kB 43.0MB/s \n",
            "\u001b[?25hRequirement already satisfied: traitlets>=4.3.2 in /usr/local/lib/python3.7/dist-packages (from pydeck>=0.1.dev5->streamlit) (5.0.5)\n",
            "Requirement already satisfied: jinja2>=2.10.1 in /usr/local/lib/python3.7/dist-packages (from pydeck>=0.1.dev5->streamlit) (2.11.3)\n",
            "Requirement already satisfied: ipywidgets>=7.0.0 in /usr/local/lib/python3.7/dist-packages (from pydeck>=0.1.dev5->streamlit) (7.6.3)\n",
            "Requirement already satisfied: jsonschema in /usr/local/lib/python3.7/dist-packages (from altair>=3.2.0->streamlit) (2.6.0)\n",
            "Requirement already satisfied: entrypoints in /usr/local/lib/python3.7/dist-packages (from altair>=3.2.0->streamlit) (0.3)\n",
            "Requirement already satisfied: toolz in /usr/local/lib/python3.7/dist-packages (from altair>=3.2.0->streamlit) (0.11.1)\n",
            "Requirement already satisfied: setuptools in /usr/local/lib/python3.7/dist-packages (from protobuf!=3.11,>=3.6.0->streamlit) (56.1.0)\n",
            "Collecting smmap<5,>=3.0.1\n",
            "  Downloading https://files.pythonhosted.org/packages/68/ee/d540eb5e5996eb81c26ceffac6ee49041d473bc5125f2aa995cf51ec1cf1/smmap-4.0.0-py2.py3-none-any.whl\n",
            "Requirement already satisfied: ipython>=5.0.0 in /usr/local/lib/python3.7/dist-packages (from ipykernel>=5.1.2; python_version >= \"3.4\"->pydeck>=0.1.dev5->streamlit) (5.5.0)\n",
            "Requirement already satisfied: jupyter-client in /usr/local/lib/python3.7/dist-packages (from ipykernel>=5.1.2; python_version >= \"3.4\"->pydeck>=0.1.dev5->streamlit) (5.3.5)\n",
            "Requirement already satisfied: ipython-genutils in /usr/local/lib/python3.7/dist-packages (from traitlets>=4.3.2->pydeck>=0.1.dev5->streamlit) (0.2.0)\n",
            "Requirement already satisfied: MarkupSafe>=0.23 in /usr/local/lib/python3.7/dist-packages (from jinja2>=2.10.1->pydeck>=0.1.dev5->streamlit) (2.0.0)\n",
            "Requirement already satisfied: widgetsnbextension~=3.5.0 in /usr/local/lib/python3.7/dist-packages (from ipywidgets>=7.0.0->pydeck>=0.1.dev5->streamlit) (3.5.1)\n",
            "Requirement already satisfied: nbformat>=4.2.0 in /usr/local/lib/python3.7/dist-packages (from ipywidgets>=7.0.0->pydeck>=0.1.dev5->streamlit) (5.1.3)\n",
            "Requirement already satisfied: jupyterlab-widgets>=1.0.0; python_version >= \"3.6\" in /usr/local/lib/python3.7/dist-packages (from ipywidgets>=7.0.0->pydeck>=0.1.dev5->streamlit) (1.0.0)\n",
            "Requirement already satisfied: pickleshare in /usr/local/lib/python3.7/dist-packages (from ipython>=5.0.0->ipykernel>=5.1.2; python_version >= \"3.4\"->pydeck>=0.1.dev5->streamlit) (0.7.5)\n",
            "Requirement already satisfied: pygments in /usr/local/lib/python3.7/dist-packages (from ipython>=5.0.0->ipykernel>=5.1.2; python_version >= \"3.4\"->pydeck>=0.1.dev5->streamlit) (2.6.1)\n",
            "Requirement already satisfied: prompt-toolkit<2.0.0,>=1.0.4 in /usr/local/lib/python3.7/dist-packages (from ipython>=5.0.0->ipykernel>=5.1.2; python_version >= \"3.4\"->pydeck>=0.1.dev5->streamlit) (1.0.18)\n",
            "Requirement already satisfied: simplegeneric>0.8 in /usr/local/lib/python3.7/dist-packages (from ipython>=5.0.0->ipykernel>=5.1.2; python_version >= \"3.4\"->pydeck>=0.1.dev5->streamlit) (0.8.1)\n",
            "Requirement already satisfied: pexpect; sys_platform != \"win32\" in /usr/local/lib/python3.7/dist-packages (from ipython>=5.0.0->ipykernel>=5.1.2; python_version >= \"3.4\"->pydeck>=0.1.dev5->streamlit) (4.8.0)\n",
            "Requirement already satisfied: pyzmq>=13 in /usr/local/lib/python3.7/dist-packages (from jupyter-client->ipykernel>=5.1.2; python_version >= \"3.4\"->pydeck>=0.1.dev5->streamlit) (22.0.3)\n",
            "Requirement already satisfied: jupyter-core>=4.6.0 in /usr/local/lib/python3.7/dist-packages (from jupyter-client->ipykernel>=5.1.2; python_version >= \"3.4\"->pydeck>=0.1.dev5->streamlit) (4.7.1)\n",
            "Requirement already satisfied: notebook>=4.4.1 in /usr/local/lib/python3.7/dist-packages (from widgetsnbextension~=3.5.0->ipywidgets>=7.0.0->pydeck>=0.1.dev5->streamlit) (5.3.1)\n",
            "Requirement already satisfied: wcwidth in /usr/local/lib/python3.7/dist-packages (from prompt-toolkit<2.0.0,>=1.0.4->ipython>=5.0.0->ipykernel>=5.1.2; python_version >= \"3.4\"->pydeck>=0.1.dev5->streamlit) (0.2.5)\n",
            "Requirement already satisfied: ptyprocess>=0.5 in /usr/local/lib/python3.7/dist-packages (from pexpect; sys_platform != \"win32\"->ipython>=5.0.0->ipykernel>=5.1.2; python_version >= \"3.4\"->pydeck>=0.1.dev5->streamlit) (0.7.0)\n",
            "Requirement already satisfied: terminado>=0.8.1 in /usr/local/lib/python3.7/dist-packages (from notebook>=4.4.1->widgetsnbextension~=3.5.0->ipywidgets>=7.0.0->pydeck>=0.1.dev5->streamlit) (0.9.5)\n",
            "Requirement already satisfied: nbconvert in /usr/local/lib/python3.7/dist-packages (from notebook>=4.4.1->widgetsnbextension~=3.5.0->ipywidgets>=7.0.0->pydeck>=0.1.dev5->streamlit) (5.6.1)\n",
            "Requirement already satisfied: Send2Trash in /usr/local/lib/python3.7/dist-packages (from notebook>=4.4.1->widgetsnbextension~=3.5.0->ipywidgets>=7.0.0->pydeck>=0.1.dev5->streamlit) (1.5.0)\n",
            "Requirement already satisfied: pandocfilters>=1.4.1 in /usr/local/lib/python3.7/dist-packages (from nbconvert->notebook>=4.4.1->widgetsnbextension~=3.5.0->ipywidgets>=7.0.0->pydeck>=0.1.dev5->streamlit) (1.4.3)\n",
            "Requirement already satisfied: testpath in /usr/local/lib/python3.7/dist-packages (from nbconvert->notebook>=4.4.1->widgetsnbextension~=3.5.0->ipywidgets>=7.0.0->pydeck>=0.1.dev5->streamlit) (0.4.4)\n",
            "Requirement already satisfied: bleach in /usr/local/lib/python3.7/dist-packages (from nbconvert->notebook>=4.4.1->widgetsnbextension~=3.5.0->ipywidgets>=7.0.0->pydeck>=0.1.dev5->streamlit) (3.3.0)\n",
            "Requirement already satisfied: defusedxml in /usr/local/lib/python3.7/dist-packages (from nbconvert->notebook>=4.4.1->widgetsnbextension~=3.5.0->ipywidgets>=7.0.0->pydeck>=0.1.dev5->streamlit) (0.7.1)\n",
            "Requirement already satisfied: mistune<2,>=0.8.1 in /usr/local/lib/python3.7/dist-packages (from nbconvert->notebook>=4.4.1->widgetsnbextension~=3.5.0->ipywidgets>=7.0.0->pydeck>=0.1.dev5->streamlit) (0.8.4)\n",
            "Requirement already satisfied: webencodings in /usr/local/lib/python3.7/dist-packages (from bleach->nbconvert->notebook>=4.4.1->widgetsnbextension~=3.5.0->ipywidgets>=7.0.0->pydeck>=0.1.dev5->streamlit) (0.5.1)\n",
            "Building wheels for collected packages: blinker\n",
            "  Building wheel for blinker (setup.py) ... \u001b[?25l\u001b[?25hdone\n",
            "  Created wheel for blinker: filename=blinker-1.4-cp37-none-any.whl size=13448 sha256=3fe532ec0904b515594fdd34b8a09593784ec40e307c0ae1a06be6d1acdddca2\n",
            "  Stored in directory: /root/.cache/pip/wheels/92/a0/00/8690a57883956a301d91cf4ec999cc0b258b01e3f548f86e89\n",
            "Successfully built blinker\n",
            "\u001b[31mERROR: google-colab 1.0.0 has requirement ipykernel~=4.10, but you'll have ipykernel 5.5.5 which is incompatible.\u001b[0m\n",
            "Installing collected packages: validators, click, smmap, gitdb, gitpython, ipykernel, pydeck, blinker, watchdog, base58, streamlit\n",
            "  Found existing installation: click 8.0.0\n",
            "    Uninstalling click-8.0.0:\n",
            "      Successfully uninstalled click-8.0.0\n",
            "  Found existing installation: ipykernel 4.10.1\n",
            "    Uninstalling ipykernel-4.10.1:\n",
            "      Successfully uninstalled ipykernel-4.10.1\n",
            "Successfully installed base58-2.1.0 blinker-1.4 click-7.1.2 gitdb-4.0.7 gitpython-3.1.17 ipykernel-5.5.5 pydeck-0.6.2 smmap-4.0.0 streamlit-0.82.0 validators-0.18.2 watchdog-2.1.2\n"
          ],
          "name": "stdout"
        },
        {
          "output_type": "display_data",
          "data": {
            "application/vnd.colab-display-data+json": {
              "pip_warning": {
                "packages": [
                  "ipykernel"
                ]
              }
            }
          },
          "metadata": {
            "tags": []
          }
        },
        {
          "output_type": "stream",
          "text": [
            "Collecting pyngrok\n",
            "\u001b[?25l  Downloading https://files.pythonhosted.org/packages/6b/4e/a2fe095bbe17cf26424c4abcd22a0490e22d01cc628f25af5e220ddbf6f0/pyngrok-5.0.5.tar.gz (745kB)\n",
            "\r\u001b[K     |▍                               | 10kB 21.5MB/s eta 0:00:01\r\u001b[K     |▉                               | 20kB 15.5MB/s eta 0:00:01\r\u001b[K     |█▎                              | 30kB 13.7MB/s eta 0:00:01\r\u001b[K     |█▊                              | 40kB 12.8MB/s eta 0:00:01\r\u001b[K     |██▏                             | 51kB 7.1MB/s eta 0:00:01\r\u001b[K     |██▋                             | 61kB 7.6MB/s eta 0:00:01\r\u001b[K     |███                             | 71kB 8.0MB/s eta 0:00:01\r\u001b[K     |███▌                            | 81kB 8.2MB/s eta 0:00:01\r\u001b[K     |████                            | 92kB 8.3MB/s eta 0:00:01\r\u001b[K     |████▍                           | 102kB 6.9MB/s eta 0:00:01\r\u001b[K     |████▉                           | 112kB 6.9MB/s eta 0:00:01\r\u001b[K     |█████▎                          | 122kB 6.9MB/s eta 0:00:01\r\u001b[K     |█████▊                          | 133kB 6.9MB/s eta 0:00:01\r\u001b[K     |██████▏                         | 143kB 6.9MB/s eta 0:00:01\r\u001b[K     |██████▋                         | 153kB 6.9MB/s eta 0:00:01\r\u001b[K     |███████                         | 163kB 6.9MB/s eta 0:00:01\r\u001b[K     |███████▌                        | 174kB 6.9MB/s eta 0:00:01\r\u001b[K     |████████                        | 184kB 6.9MB/s eta 0:00:01\r\u001b[K     |████████▍                       | 194kB 6.9MB/s eta 0:00:01\r\u001b[K     |████████▉                       | 204kB 6.9MB/s eta 0:00:01\r\u001b[K     |█████████▎                      | 215kB 6.9MB/s eta 0:00:01\r\u001b[K     |█████████▊                      | 225kB 6.9MB/s eta 0:00:01\r\u001b[K     |██████████▏                     | 235kB 6.9MB/s eta 0:00:01\r\u001b[K     |██████████▌                     | 245kB 6.9MB/s eta 0:00:01\r\u001b[K     |███████████                     | 256kB 6.9MB/s eta 0:00:01\r\u001b[K     |███████████▍                    | 266kB 6.9MB/s eta 0:00:01\r\u001b[K     |███████████▉                    | 276kB 6.9MB/s eta 0:00:01\r\u001b[K     |████████████▎                   | 286kB 6.9MB/s eta 0:00:01\r\u001b[K     |████████████▊                   | 296kB 6.9MB/s eta 0:00:01\r\u001b[K     |█████████████▏                  | 307kB 6.9MB/s eta 0:00:01\r\u001b[K     |█████████████▋                  | 317kB 6.9MB/s eta 0:00:01\r\u001b[K     |██████████████                  | 327kB 6.9MB/s eta 0:00:01\r\u001b[K     |██████████████▌                 | 337kB 6.9MB/s eta 0:00:01\r\u001b[K     |███████████████                 | 348kB 6.9MB/s eta 0:00:01\r\u001b[K     |███████████████▍                | 358kB 6.9MB/s eta 0:00:01\r\u001b[K     |███████████████▉                | 368kB 6.9MB/s eta 0:00:01\r\u001b[K     |████████████████▎               | 378kB 6.9MB/s eta 0:00:01\r\u001b[K     |████████████████▊               | 389kB 6.9MB/s eta 0:00:01\r\u001b[K     |█████████████████▏              | 399kB 6.9MB/s eta 0:00:01\r\u001b[K     |█████████████████▋              | 409kB 6.9MB/s eta 0:00:01\r\u001b[K     |██████████████████              | 419kB 6.9MB/s eta 0:00:01\r\u001b[K     |██████████████████▌             | 430kB 6.9MB/s eta 0:00:01\r\u001b[K     |███████████████████             | 440kB 6.9MB/s eta 0:00:01\r\u001b[K     |███████████████████▍            | 450kB 6.9MB/s eta 0:00:01\r\u001b[K     |███████████████████▉            | 460kB 6.9MB/s eta 0:00:01\r\u001b[K     |████████████████████▎           | 471kB 6.9MB/s eta 0:00:01\r\u001b[K     |████████████████████▊           | 481kB 6.9MB/s eta 0:00:01\r\u001b[K     |█████████████████████           | 491kB 6.9MB/s eta 0:00:01\r\u001b[K     |█████████████████████▌          | 501kB 6.9MB/s eta 0:00:01\r\u001b[K     |██████████████████████          | 512kB 6.9MB/s eta 0:00:01\r\u001b[K     |██████████████████████▍         | 522kB 6.9MB/s eta 0:00:01\r\u001b[K     |██████████████████████▉         | 532kB 6.9MB/s eta 0:00:01\r\u001b[K     |███████████████████████▎        | 542kB 6.9MB/s eta 0:00:01\r\u001b[K     |███████████████████████▊        | 552kB 6.9MB/s eta 0:00:01\r\u001b[K     |████████████████████████▏       | 563kB 6.9MB/s eta 0:00:01\r\u001b[K     |████████████████████████▋       | 573kB 6.9MB/s eta 0:00:01\r\u001b[K     |█████████████████████████       | 583kB 6.9MB/s eta 0:00:01\r\u001b[K     |█████████████████████████▌      | 593kB 6.9MB/s eta 0:00:01\r\u001b[K     |██████████████████████████      | 604kB 6.9MB/s eta 0:00:01\r\u001b[K     |██████████████████████████▍     | 614kB 6.9MB/s eta 0:00:01\r\u001b[K     |██████████████████████████▉     | 624kB 6.9MB/s eta 0:00:01\r\u001b[K     |███████████████████████████▎    | 634kB 6.9MB/s eta 0:00:01\r\u001b[K     |███████████████████████████▊    | 645kB 6.9MB/s eta 0:00:01\r\u001b[K     |████████████████████████████▏   | 655kB 6.9MB/s eta 0:00:01\r\u001b[K     |████████████████████████████▋   | 665kB 6.9MB/s eta 0:00:01\r\u001b[K     |█████████████████████████████   | 675kB 6.9MB/s eta 0:00:01\r\u001b[K     |█████████████████████████████▌  | 686kB 6.9MB/s eta 0:00:01\r\u001b[K     |██████████████████████████████  | 696kB 6.9MB/s eta 0:00:01\r\u001b[K     |██████████████████████████████▍ | 706kB 6.9MB/s eta 0:00:01\r\u001b[K     |██████████████████████████████▉ | 716kB 6.9MB/s eta 0:00:01\r\u001b[K     |███████████████████████████████▏| 727kB 6.9MB/s eta 0:00:01\r\u001b[K     |███████████████████████████████▋| 737kB 6.9MB/s eta 0:00:01\r\u001b[K     |████████████████████████████████| 747kB 6.9MB/s \n",
            "\u001b[?25hRequirement already satisfied: PyYAML in /usr/local/lib/python3.7/dist-packages (from pyngrok) (3.13)\n",
            "Building wheels for collected packages: pyngrok\n",
            "  Building wheel for pyngrok (setup.py) ... \u001b[?25l\u001b[?25hdone\n",
            "  Created wheel for pyngrok: filename=pyngrok-5.0.5-cp37-none-any.whl size=19246 sha256=ea602e8e3b75ba25fffa64bfd9cc9865cbfb0bdddecc546a260b8fe4c0db72df\n",
            "  Stored in directory: /root/.cache/pip/wheels/0c/13/64/5ebbcc22eaf53fdf5766b397c1fb17c83f5775fdccf0ea1b88\n",
            "Successfully built pyngrok\n",
            "Installing collected packages: pyngrok\n",
            "Successfully installed pyngrok-5.0.5\n"
          ],
          "name": "stdout"
        }
      ]
    },
    {
      "cell_type": "code",
      "metadata": {
        "id": "9QdP3ZOBchax"
      },
      "source": [
        ""
      ],
      "execution_count": null,
      "outputs": []
    }
  ]
}